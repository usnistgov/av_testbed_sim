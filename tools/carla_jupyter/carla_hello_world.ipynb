{
 "cells": [
  {
   "cell_type": "code",
   "execution_count": 8,
   "id": "daf8b91f-0e45-4e12-a3ca-564f2ec863d3",
   "metadata": {
    "tags": []
   },
   "outputs": [
    {
     "name": "stdout",
     "output_type": "stream",
     "text": [
      "Defaulting to user installation because normal site-packages is not writeable\n",
      "Requirement already satisfied: carla in /opt/carla-simulator/PythonAPI/carla/dist/carla-0.9.13-py3.7-linux-x86_64.egg (0.9.13)\n"
     ]
    }
   ],
   "source": [
    "!pip install carla"
   ]
  },
  {
   "cell_type": "code",
   "execution_count": 9,
   "id": "edfdac50",
   "metadata": {},
   "outputs": [],
   "source": [
    "import carla\n",
    "import math\n",
    "import random\n",
    "import time"
   ]
  },
  {
   "cell_type": "markdown",
   "id": "d56340cd",
   "metadata": {},
   "source": [
    "# Client and World"
   ]
  },
  {
   "cell_type": "code",
   "execution_count": 10,
   "id": "3e673707",
   "metadata": {},
   "outputs": [],
   "source": [
    "# Connect to the client and retrieve the world object\n",
    "client = carla.Client('localhost', 2000)\n",
    "world = client.get_world()"
   ]
  },
  {
   "cell_type": "markdown",
   "id": "f816d6fd",
   "metadata": {},
   "source": [
    "# Spectator"
   ]
  },
  {
   "cell_type": "code",
   "execution_count": 11,
   "id": "5b904a40-ec41-4192-abb8-e22380d347d3",
   "metadata": {},
   "outputs": [],
   "source": [
    "# Retrieve the spectator object\n",
    "spectator = world.get_spectator()\n",
    "\n",
    "# Get the location and rotation of the spectator through its transform\n",
    "transform = spectator.get_transform()\n",
    "location = transform.location\n",
    "rotation = transform.rotation\n",
    "\n",
    "# Set the spectator with an empty transform\n",
    "spectator.set_transform(carla.Transform())\n",
    "# This will set the spectator at the origin of the map, with 0 degrees\n",
    "# pitch, yaw and roll - a good way to orient yourself in the map"
   ]
  },
  {
   "cell_type": "markdown",
   "id": "00f903fc",
   "metadata": {},
   "source": [
    "# Non-player Characters (NPC)"
   ]
  },
  {
   "cell_type": "code",
   "execution_count": 12,
   "id": "5a074f22",
   "metadata": {},
   "outputs": [],
   "source": [
    "# Get the blueprint library and filter for the vehicle blueprints\n",
    "vehicle_blueprints = world.get_blueprint_library().filter('*vehicle*')\n",
    "\n",
    "# Get the map's spawn points\n",
    "spawn_points = world.get_map().get_spawn_points()\n",
    "\n",
    "# Spawn 2 vehicles randomly distributed throughout the map \n",
    "# for each spawn point, we choose a random vehicle from the blueprint library\n",
    "for i in range(2):\n",
    "    world.try_spawn_actor(random.choice(vehicle_blueprints), random.choice(spawn_points))"
   ]
  },
  {
   "cell_type": "markdown",
   "id": "faff8d49",
   "metadata": {},
   "source": [
    "# Ego Vehicle"
   ]
  },
  {
   "cell_type": "code",
   "execution_count": 6,
   "id": "5ead87fa",
   "metadata": {},
   "outputs": [],
   "source": [
    "#ego_vehicle = world.spawn_actor(random.choice(vehicle_blueprints), random.choice(spawn_points))"
   ]
  },
  {
   "cell_type": "markdown",
   "id": "03bfbb49",
   "metadata": {},
   "source": [
    "# Ego Vehicle"
   ]
  },
  {
   "cell_type": "code",
   "execution_count": 13,
   "id": "8fa4fc56",
   "metadata": {},
   "outputs": [],
   "source": [
    "ego_bp = world.get_blueprint_library().find('vehicle.lincoln.mkz_2020')\n",
    "\n",
    "ego_bp.set_attribute('role_name', 'hero')\n",
    "\n",
    "ego_vehicle = world.spawn_actor(ego_bp, random.choice(spawn_points))"
   ]
  },
  {
   "cell_type": "markdown",
   "id": "31323121",
   "metadata": {},
   "source": [
    "# Add Sensors"
   ]
  },
  {
   "cell_type": "code",
   "execution_count": 14,
   "id": "220883dc",
   "metadata": {},
   "outputs": [],
   "source": [
    "# Create a transform to place the camera on top of the vehicle\n",
    "camera_init_trans = carla.Transform(carla.Location(z=1.5))\n",
    "\n",
    "# We create the camera through a blueprint that defines its properties\n",
    "camera_bp = world.get_blueprint_library().find('sensor.camera.rgb')\n",
    "\n",
    "# We spawn the camera and attach it to our ego vehicle\n",
    "camera = world.spawn_actor(camera_bp, camera_init_trans, attach_to=ego_vehicle)"
   ]
  },
  {
   "cell_type": "markdown",
   "id": "ddd82581",
   "metadata": {},
   "source": [
    "# Animate Vehicles"
   ]
  },
  {
   "cell_type": "code",
   "execution_count": 15,
   "id": "82c391cc",
   "metadata": {},
   "outputs": [],
   "source": [
    "for vehicle in world.get_actors().filter('*vehicle*'):\n",
    "    vehicle.set_autopilot(True)"
   ]
  },
  {
   "cell_type": "code",
   "execution_count": null,
   "id": "a057efcd",
   "metadata": {},
   "outputs": [],
   "source": []
  }
 ],
 "metadata": {
  "kernelspec": {
   "display_name": "Python 3 (ipykernel)",
   "language": "python",
   "name": "python3"
  },
  "language_info": {
   "codemirror_mode": {
    "name": "ipython",
    "version": 3
   },
   "file_extension": ".py",
   "mimetype": "text/x-python",
   "name": "python",
   "nbconvert_exporter": "python",
   "pygments_lexer": "ipython3",
   "version": "3.8.10"
  }
 },
 "nbformat": 4,
 "nbformat_minor": 5
}
